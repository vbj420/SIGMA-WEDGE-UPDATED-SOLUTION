{
 "cells": [
  {
   "cell_type": "code",
   "execution_count": 9,
   "id": "3adce5da-86a7-4902-86d6-b55a9c0f6fb4",
   "metadata": {
    "tags": []
   },
   "outputs": [
    {
     "data": {
      "text/plain": [
       "{'licensekey': '4ec4........dd69', 'software_license': {}}"
      ]
     },
     "execution_count": 9,
     "metadata": {},
     "output_type": "execute_result"
    }
   ],
   "source": [
    "from quantrocket.license import set_license\n",
    "set_license(\"4ec4675b-de16-11ee-8ed5-29a04fa1dd69\")"
   ]
  },
  {
   "cell_type": "code",
   "execution_count": null,
   "id": "e94a93bf-c179-46ec-aeff-a8440315ac5b",
   "metadata": {
    "tags": []
   },
   "outputs": [],
   "source": [
    "from quantrocket.history import collect_history\n",
    "collect_history(\"usstock-free-1d\")"
   ]
  },
  {
   "cell_type": "code",
   "execution_count": null,
   "id": "6d90ec19-0f79-41f8-81df-b1bb036e8103",
   "metadata": {
    "tags": []
   },
   "outputs": [],
   "source": [
    "from quantrocket.master import get_securities\n",
    "# by specifying sec_types='STK', we exclude ETFs, which are present in the sample data \n",
    "securities = get_securities(vendors=\"usstock\", sec_types=\"STK\")\n",
    "securities.head()"
   ]
  },
  {
   "cell_type": "code",
   "execution_count": null,
   "id": "f20cfbd1-fc7c-4fea-abfb-2ab461ea5f5b",
   "metadata": {
    "tags": []
   },
   "outputs": [],
   "source": [
    "from quantrocket.master import create_universe\n",
    "create_universe(\"usstock-free\", sids=securities.index.tolist())"
   ]
  },
  {
   "cell_type": "code",
   "execution_count": null,
   "id": "b97a1fdd-2a75-44b9-bb8c-d1fbb52273a3",
   "metadata": {
    "tags": []
   },
   "outputs": [],
   "source": [
    "filtered_securities = securities[securities.Delisted==False]\n",
    "# also limit the number of columns for readability\n",
    "filtered_securities = filtered_securities[[\"Symbol\", \"Exchange\", \"Name\", \"Delisted\"]]\n",
    "filtered_securities.head()"
   ]
  },
  {
   "cell_type": "code",
   "execution_count": null,
   "id": "66d1ab42-9a42-42ca-bed8-00452767f81d",
   "metadata": {
    "tags": []
   },
   "outputs": [],
   "source": [
    "create_universe(\"usstock-free-activebd\", sids=filtered_securities.index.tolist())"
   ]
  },
  {
   "cell_type": "code",
   "execution_count": null,
   "id": "c2803c5a-0402-4c2e-b285-c89ae8f8b42a",
   "metadata": {
    "tags": []
   },
   "outputs": [],
   "source": [
    "prices.to_csv(\"data.csv\")"
   ]
  },
  {
   "cell_type": "code",
   "execution_count": 3,
   "id": "a1adaea2-b978-4fa0-b966-a97cb64a54c2",
   "metadata": {
    "tags": []
   },
   "outputs": [],
   "source": [
    "import pandas as pd\n",
    "prices=pd.read_csv(\"data.csv\")"
   ]
  },
  {
   "cell_type": "code",
   "execution_count": 4,
   "id": "3cbde4c8-da44-43b1-9aa3-2ae83dc40149",
   "metadata": {
    "tags": []
   },
   "outputs": [
    {
     "name": "stdout",
     "output_type": "stream",
     "text": [
      "           Date    Prices\n",
      "0    2023-01-03  124.2163\n",
      "1    2023-01-04  125.4975\n",
      "2    2023-01-05  124.1666\n",
      "3    2023-01-06  128.7352\n",
      "4    2023-01-09  129.2616\n",
      "..          ...       ...\n",
      "245  2023-12-22  193.3533\n",
      "246  2023-12-26  192.8040\n",
      "247  2023-12-27  192.9038\n",
      "248  2023-12-28  193.3333\n",
      "249  2023-12-29  192.2846\n",
      "\n",
      "[250 rows x 2 columns]\n"
     ]
    }
   ],
   "source": [
    "'''\n",
    "for col in prices.columns:\n",
    "    print(col)\n",
    "'''\n",
    "#print(prices)\n",
    "prices  = prices.rename(columns={\"FIBBG000B9XRY4\":\"Prices\"})\n",
    "Data = prices.drop('Field', axis=1)\n",
    "print(Data)"
   ]
  },
  {
   "cell_type": "code",
   "execution_count": 5,
   "id": "e55c0bb5-15fb-42b1-b8d6-6c37d9cb1950",
   "metadata": {
    "tags": []
   },
   "outputs": [],
   "source": [
    "Data['V'] = 0 \n",
    "Data['R'] = 0 \n",
    "Data['S'] = 0\n",
    "for i in range(1,len(Data)) :\n",
    "    R = ( Data.loc[Data.index[i],'Prices'] - Data.loc[Data.index[i-1],'Prices'] ) / Data.loc[Data.index[i-1],'Prices']\n",
    "    if R >= 0.01 :\n",
    "        S =1 \n",
    "        State = \"Bull\"\n",
    "    elif R > -0.01 :\n",
    "        S=0\n",
    "        State=\"Flat\"\n",
    "    else:\n",
    "        S=-1\n",
    "        State =\"Bear\"\n",
    "    Data.loc[Data.index[i],'R'] = R \n",
    "    Data.loc[Data.index[i],'S'] = S \n",
    "    Data.loc[Data.index[i],'State'] = State \n",
    "    if Data.loc[Data.index[i-1],'S'] ==0 and Data.loc[Data.index[i],'S'] ==1 :\n",
    "        Data.loc[Data.index[i],'V'] = Data.loc[Data.index[i-1],'V'] +1\n",
    "    elif Data.loc[Data.index[i-1],'S'] ==0 and Data.loc[Data.index[i],'S'] ==-1 :\n",
    "        Data.loc[Data.index[i],'V'] = Data.loc[Data.index[i-1],'V'] - 1\n",
    "    else :\n",
    "        Data.loc[Data.index[i],'V'] = Data.loc[Data.index[i-1],'V']     \n",
    "    "
   ]
  },
  {
   "cell_type": "code",
   "execution_count": 20,
   "id": "8261c9e0-db61-43cf-8954-58268dc446d4",
   "metadata": {
    "tags": []
   },
   "outputs": [
    {
     "name": "stdout",
     "output_type": "stream",
     "text": [
      "           Date    Prices   V         R  S State\n",
      "88   2023-05-10  172.6335  10  0.010392  1  Bull\n",
      "89   2023-05-11  172.8275  10  0.001124  0  Flat\n",
      "90   2023-05-12  171.8912  10 -0.005418  0  Flat\n",
      "91   2023-05-15  171.3932  10 -0.002897  0  Flat\n",
      "92   2023-05-16  171.3932  10  0.000000  0  Flat\n",
      "..          ...       ...  ..       ... ..   ...\n",
      "245  2023-12-22  193.3533  18 -0.005547  0  Flat\n",
      "246  2023-12-26  192.8040  18 -0.002841  0  Flat\n",
      "247  2023-12-27  192.9038  18  0.000518  0  Flat\n",
      "248  2023-12-28  193.3333  18  0.002226  0  Flat\n",
      "249  2023-12-29  192.2846  18 -0.005424  0  Flat\n",
      "\n",
      "[162 rows x 6 columns]\n"
     ]
    }
   ],
   "source": [
    "print(Data[Data[\"V\"]>=10])"
   ]
  },
  {
   "cell_type": "code",
   "execution_count": 6,
   "id": "5356a009-833c-4239-ae57-9d06cfe823bf",
   "metadata": {
    "tags": []
   },
   "outputs": [
    {
     "name": "stdout",
     "output_type": "stream",
     "text": [
      " DISTINCT V-Values Range \n",
      "{0, 1, 2, 3, 4, 5, 6, 7, 8, 9, 10, 11, 12, 13, 14, 15, 16, 17, 18, 19}\n"
     ]
    }
   ],
   "source": [
    "print(\" DISTINCT V-Values Range \")\n",
    "print(set(Data[\"V\"]))"
   ]
  },
  {
   "cell_type": "code",
   "execution_count": 34,
   "id": "719f0c75-599f-4c49-9288-56f8f1954c20",
   "metadata": {
    "tags": []
   },
   "outputs": [
    {
     "name": "stdout",
     "output_type": "stream",
     "text": [
      "Iteration 1:\n",
      "  Decision: Buy\n",
      "  Reason: Bull State\n",
      "  Buy Date: 2023-01-04\n",
      "  Transition Probabilities:\n",
      "    Transition (0, 1): Probability 1.0\n",
      "Iteration 2:\n",
      "  Decision: Don't Buy\n",
      "Iteration 3:\n",
      "  Decision: Buy\n",
      "  Reason: Bull State\n",
      "  Buy Date: 2023-01-06\n",
      "  Transition Probabilities:\n",
      "    Transition (0, 1): Probability 0.3333333333333333\n",
      "Iteration 4:\n",
      "  Decision: Buy\n",
      "  Reason: Flat State\n",
      "  Buy Date: 2023-01-09\n",
      "  Transition Probabilities:\n",
      "    Transition (0, 1): Probability 0.25\n",
      "Iteration 5:\n",
      "  Decision: Buy\n",
      "  Reason: Flat State\n",
      "  Buy Date: 2023-01-10\n",
      "  Transition Probabilities:\n",
      "    Transition (0, 1): Probability 0.2\n",
      "Iteration 6:\n",
      "  Decision: Buy\n",
      "  Reason: Bull State\n",
      "  Buy Date: 2023-01-11\n",
      "  Transition Probabilities:\n",
      "    Transition (0, 1): Probability 0.3333333333333333\n",
      "Iteration 7:\n",
      "  Decision: Buy\n",
      "  Reason: Flat State\n",
      "  Buy Date: 2023-01-12\n",
      "  Transition Probabilities:\n",
      "    Transition (0, 1): Probability 0.2857142857142857\n",
      "Iteration 8:\n",
      "  Decision: Buy\n",
      "  Reason: Bull State\n",
      "  Buy Date: 2023-01-13\n",
      "  Transition Probabilities:\n",
      "    Transition (0, 1): Probability 0.375\n",
      "Iteration 9:\n",
      "  Decision: Buy\n",
      "  Reason: Flat State\n",
      "  Buy Date: 2023-01-17\n",
      "  Transition Probabilities:\n",
      "    Transition (0, 1): Probability 0.3333333333333333\n",
      "Iteration 10:\n",
      "  Decision: Buy\n",
      "  Reason: Flat State\n",
      "  Buy Date: 2023-01-18\n",
      "  Transition Probabilities:\n",
      "    Transition (0, 1): Probability 0.3\n",
      "53\n",
      "Final V value after all buy dates: 578\n"
     ]
    }
   ],
   "source": [
    "buy_dates = []\n",
    "current_state = 0  \n",
    "transition_count = {(-1, 0): 0, (0, 1): 0, (-1, 1): 0, (0, -1): 0, (1, 0): 0, (1, -1): 0, (0, 0): 0, (1, 1): 0, (-1, -1): 0}\n",
    "total_transitions = 0\n",
    "buy_counter = 0\n",
    "iteration_counter = 0\n",
    "print_first_10_iterations = True\n",
    "\n",
    "for i in range(1, len(Data)):\n",
    "    prev_state = current_state\n",
    "    current_state = Data.loc[i, 'S']\n",
    "    transition_count[(prev_state, current_state)] += 1\n",
    "    total_transitions += 1\n",
    "\n",
    "    transition_probabilities = {}\n",
    "    for transition, count in transition_count.items():\n",
    "        transition_probabilities[transition] = count / total_transitions\n",
    "\n",
    "    buy_decision = \"Don't Buy\"\n",
    "    reason = \"\"\n",
    "    if current_state != -1:\n",
    "        if current_state == 1 and transition_probabilities[(prev_state, 1)] > transition_probabilities[(prev_state, -1)]:\n",
    "            buy_dates.append(Data.loc[i, 'Date'])\n",
    "            buy_decision = \"Buy\"\n",
    "            buy_counter += 1\n",
    "            reason = \"Bull State\"\n",
    "        elif current_state == 0:\n",
    "            buy_decision = \"Buy\"\n",
    "            buy_counter += 1\n",
    "            reason = \"Flat State\"\n",
    "\n",
    "    if print_first_10_iterations:\n",
    "        print(f\"Iteration {i}:\")\n",
    "        print(f\"  Decision: {buy_decision}\")\n",
    "        if reason:\n",
    "            print(f\"  Reason: {reason}\")\n",
    "        if buy_decision == \"Buy\":\n",
    "            print(f\"  Buy Date: {Data.loc[i, 'Date']}\")\n",
    "        if buy_decision == \"Buy\":\n",
    "            print(\"  Transition Probabilities:\")\n",
    "            for transition, probability in transition_probabilities.items():\n",
    "                if transition[1] == 1 and transition[0]==0 :\n",
    "                    print(f\"    Transition {transition}: Probability {probability}\")\n",
    "\n",
    "      \n",
    "        iteration_counter += 1\n",
    "\n",
    "        if iteration_counter >= 10:\n",
    "            print_first_10_iterations = False\n",
    "\n",
    "\n",
    "#print(\"All Buy Dates:\")\n",
    "#for buy_date in buy_dates:\n",
    "#    print(buy_date)\n",
    "print(len(buy_dates))\n",
    "final_V = Data.loc[Data['Date'].isin(buy_dates)]['V'].sum()\n",
    "print(f\"Final V value after all buy dates: {final_V}\")\n"
   ]
  },
  {
   "cell_type": "code",
   "execution_count": 35,
   "id": "edbb976f-3a22-4a32-949d-8aca5e94c208",
   "metadata": {
    "tags": []
   },
   "outputs": [
    {
     "name": "stdout",
     "output_type": "stream",
     "text": [
      "Iteration 1:\n",
      "  Decision: Buy\n",
      "  Reason: Bull State\n",
      "  Buy Date: 2023-01-04\n",
      "  Transition Probabilities:\n",
      "    Transition (0, 1): Probability 1.0\n",
      "Iteration 2:\n",
      "  Decision: Don't Buy\n",
      "Iteration 3:\n",
      "  Decision: Buy\n",
      "  Reason: Bull State\n",
      "  Buy Date: 2023-01-06\n",
      "  Transition Probabilities:\n",
      "    Transition (0, 1): Probability 0.3333333333333333\n",
      "Iteration 4:\n",
      "  Decision: Buy\n",
      "  Reason: Flat State\n",
      "  Buy Date: 2023-01-09\n",
      "  Transition Probabilities:\n",
      "    Transition (0, 1): Probability 0.25\n",
      "Iteration 5:\n",
      "  Decision: Buy\n",
      "  Reason: Flat State\n",
      "  Buy Date: 2023-01-10\n",
      "  Transition Probabilities:\n",
      "    Transition (0, 1): Probability 0.2\n",
      "Iteration 6:\n",
      "  Decision: Buy\n",
      "  Reason: Bull State\n",
      "  Buy Date: 2023-01-11\n",
      "  Transition Probabilities:\n",
      "    Transition (0, 1): Probability 0.3333333333333333\n",
      "Iteration 7:\n",
      "  Decision: Buy\n",
      "  Reason: Flat State\n",
      "  Buy Date: 2023-01-12\n",
      "  Transition Probabilities:\n",
      "    Transition (0, 1): Probability 0.2857142857142857\n",
      "Iteration 8:\n",
      "  Decision: Buy\n",
      "  Reason: Bull State\n",
      "  Buy Date: 2023-01-13\n",
      "  Transition Probabilities:\n",
      "    Transition (0, 1): Probability 0.375\n",
      "Iteration 9:\n",
      "  Decision: Buy\n",
      "  Reason: Flat State\n",
      "  Buy Date: 2023-01-17\n",
      "  Transition Probabilities:\n",
      "    Transition (0, 1): Probability 0.3333333333333333\n",
      "Iteration 10:\n",
      "  Decision: Buy\n",
      "  Reason: Flat State\n",
      "  Buy Date: 2023-01-18\n",
      "  Transition Probabilities:\n",
      "    Transition (0, 1): Probability 0.3\n",
      "53\n",
      "Final V value after all buy decisions: 211\n"
     ]
    }
   ],
   "source": [
    "buy_dates = []\n",
    "current_state = 0  # Initial state\n",
    "transition_count = {(-1, 0): 0, (0, 1): 0, (-1, 1): 0, (0, -1): 0, (1, 0): 0, (1, -1): 0, (0, 0): 0, (1, 1): 0, (-1, -1): 0}\n",
    "total_transitions = 0\n",
    "buy_counter = 0\n",
    "iteration_counter = 0\n",
    "final_V = 0 \n",
    "\n",
    "for i in range(1, len(Data)):\n",
    "    prev_state = current_state\n",
    "    current_state = Data.loc[i, 'S']\n",
    "    transition_count[(prev_state, current_state)] += 1\n",
    "    total_transitions += 1\n",
    "\n",
    "    transition_probabilities = {}\n",
    "    for transition, count in transition_count.items():\n",
    "        transition_probabilities[transition] = count / total_transitions\n",
    "\n",
    "    buy_decision = \"Don't Buy\"\n",
    "    reason = \"\"\n",
    "    if current_state != -1:\n",
    "        if current_state == 1 and transition_probabilities[(prev_state, 1)] > transition_probabilities[(prev_state, -1)]:\n",
    "            buy_dates.append(Data.loc[i, 'Date'])\n",
    "            buy_decision = \"Buy\"\n",
    "            buy_counter += 1\n",
    "            reason = \"Bull State\"\n",
    "            final_V += 1 # Update final V value\n",
    "        elif current_state == 0:\n",
    "            buy_decision = \"Buy\"\n",
    "            buy_counter += 1\n",
    "            reason = \"Flat State\"\n",
    "            final_V += 1  # Update final V value\n",
    "\n",
    "    if iteration_counter < 10:\n",
    "        print(f\"Iteration {i}:\")\n",
    "        print(f\"  Decision: {buy_decision}\")\n",
    "        if reason:\n",
    "            print(f\"  Reason: {reason}\")\n",
    "        if buy_decision == \"Buy\":\n",
    "            print(f\"  Buy Date: {Data.loc[i, 'Date']}\")\n",
    "            print(\"  Transition Probabilities:\")\n",
    "            for transition, probability in transition_probabilities.items():\n",
    "                if transition[1] == 1 and transition[0] == 0:\n",
    "                    print(f\"    Transition {transition}: Probability {probability}\")\n",
    "        iteration_counter += 1\n",
    "\n",
    "'''\n",
    "print(\"All Buy Dates:\")\n",
    "for buy_date in buy_dates:\n",
    "    print(buy_date)\n",
    "'''\n",
    "print(len(buy_dates))\n",
    "print(f\"Final V value after all buy decisions: {final_V}\")\n"
   ]
  },
  {
   "cell_type": "code",
   "execution_count": 22,
   "id": "cb8ac676-5c4c-4253-a160-fd7b416a4835",
   "metadata": {},
   "outputs": [
    {
     "data": {
      "text/plain": [
       "array([[<AxesSubplot:title={'center':'Prices'}>,\n",
       "        <AxesSubplot:title={'center':'V'}>],\n",
       "       [<AxesSubplot:title={'center':'R'}>,\n",
       "        <AxesSubplot:title={'center':'S'}>]], dtype=object)"
      ]
     },
     "execution_count": 22,
     "metadata": {},
     "output_type": "execute_result"
    },
    {
     "data": {
      "image/png": "[encoded data removed]",
      "text/plain": [
       "<Figure size 1152x432 with 4 Axes>"
      ]
     },
     "metadata": {},
     "output_type": "display_data"
    }
   ],
   "source": [
    "#VISUALIZE THE DISTRIBUTION OF METRICS OF THE DATA \n",
    "Data.hist()"
   ]
  }
 ],
 "metadata": {
  "kernelspec": {
   "display_name": "Python 3.9",
   "language": "python",
   "name": "python3"
  },
  "language_info": {
   "codemirror_mode": {
    "name": "ipython",
    "version": 3
   },
   "file_extension": ".py",
   "mimetype": "text/x-python",
   "name": "python",
   "nbconvert_exporter": "python",
   "pygments_lexer": "ipython3",
   "version": "3.9.12"
  }
 },
 "nbformat": 4,
 "nbformat_minor": 5
}
